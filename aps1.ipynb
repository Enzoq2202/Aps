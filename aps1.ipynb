{
  "cells": [
    {
      "cell_type": "markdown",
      "metadata": {
        "id": "DgDchhgPA_RK"
      },
      "source": [
        "# Insper\n",
        "\n",
        "<font size=\"3\" color=\"##040059\">**Grupo:** Alexandre Wever e Enzo Quental </font>\n",
        "<br>\n",
        "<br>\n",
        "<font size=\"5\" color=\"##040059\">**APS1 - Affordable and clean energy**</font>\n",
        "<br>\n",
        "\n",
        "<p>O objetivo do desenvolvimento sustentável escolhido pelo nosso grupo foi garantir o acesso a energia acessível, confiável, sustentável e moderna para todos. No qual, a relevância desse objetivo seja que, a energia é crucial para alcançar quase todos os \"Objetivos de Desenvolvimento Sustentável\", desde seu papel na erradicação da pobreza por meio de avanços na saúde, educação, abastecimento de água e industrialização, até o combate às mudanças climáticas. Deste modo, escolhemos como indicador: o Consumo de Energia Renovável (% do Consumo Total de Energia Final). A relação entre o indicador e o objetivo é que, o indicador mostra o quanto de Energia sustentável está sendo usado pelo mundo, mostrando, assim, como que está o progresso do objetivo mudialmente e o quanto, ainda falta para esse objetivo ser realizado.<p>\n",
        "\n",
        "---\n",
        "\n",
        "\n",
        "\n",
        "\n",
        "\n",
        "\n"
      ]
    }
  ],
  "metadata": {
    "colab": {
      "collapsed_sections": [],
      "name": "aps1.ipynb",
      "provenance": []
    },
    "gpuClass": "standard",
    "kernelspec": {
      "display_name": "Python 3",
      "name": "python3"
    },
    "language_info": {
      "name": "python"
    },
    "orig_nbformat": 4
  },
  "nbformat": 4,
  "nbformat_minor": 0
}
