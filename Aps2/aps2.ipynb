{
 "cells": [
  {
   "cell_type": "markdown",
   "metadata": {},
   "source": [
    "<font size=\"8\" color=\"#FF0000\">Insper</font>\n",
    "\n",
    "<font size=\"3\" color=\"#00DDFF\">**Grupo:** Alexandre Wever e Enzo Quental </font>\n",
    "<br>\n",
    "<br>\n",
    "<font size=\"5\" color=\"#00DDFF\">**APS2 - Affordable and clean energy**</font>\n",
    "<br>\n",
    "\n",
    "<p>\n",
    "Conforme a primeira APS entregue, o objetivo para o desenvolvimento sustentável que nós escolhemos foi a garantia ao acesso de energia acessível, confiável, sustentável e moderna para todos. Decidimos escolher “Acesso aos combustíveis e tecnologias limpas para cozinhar” como indicador que não está diretamente relacionado ao objetivo para o desenvolvimento sustentável que nós escolhemos na parte 1.\n",
    "Deste modo, levamos como uma hipótese de como os índices se relacionam, no qual,  para ter acesso a combustíveis e tecnologias limpas para cozinhar você precisa utilizar de energia renovável. \n",
    "\n",
    "\n",
    "---\n",
    "\n"
   ]
  },
  {
   "cell_type": "code",
   "execution_count": 1,
   "metadata": {},
   "outputs": [
    {
     "data": {
      "text/html": [
       "<div>\n",
       "<style scoped>\n",
       "    .dataframe tbody tr th:only-of-type {\n",
       "        vertical-align: middle;\n",
       "    }\n",
       "\n",
       "    .dataframe tbody tr th {\n",
       "        vertical-align: top;\n",
       "    }\n",
       "\n",
       "    .dataframe thead th {\n",
       "        text-align: right;\n",
       "    }\n",
       "</style>\n",
       "<table border=\"1\" class=\"dataframe\">\n",
       "  <thead>\n",
       "    <tr style=\"text-align: right;\">\n",
       "      <th></th>\n",
       "      <th>Country Name</th>\n",
       "      <th>Country Code</th>\n",
       "      <th>Indicator Name</th>\n",
       "      <th>Indicator Code</th>\n",
       "      <th>1960</th>\n",
       "      <th>1961</th>\n",
       "      <th>1962</th>\n",
       "      <th>1963</th>\n",
       "      <th>1964</th>\n",
       "      <th>1965</th>\n",
       "      <th>...</th>\n",
       "      <th>2013</th>\n",
       "      <th>2014</th>\n",
       "      <th>2015</th>\n",
       "      <th>2016</th>\n",
       "      <th>2017</th>\n",
       "      <th>2018</th>\n",
       "      <th>2019</th>\n",
       "      <th>2020</th>\n",
       "      <th>2021</th>\n",
       "      <th>Unnamed: 66</th>\n",
       "    </tr>\n",
       "  </thead>\n",
       "  <tbody>\n",
       "    <tr>\n",
       "      <th>0</th>\n",
       "      <td>Aruba</td>\n",
       "      <td>ABW</td>\n",
       "      <td>Access to clean fuels and technologies for coo...</td>\n",
       "      <td>EG.CFT.ACCS.ZS</td>\n",
       "      <td>NaN</td>\n",
       "      <td>NaN</td>\n",
       "      <td>NaN</td>\n",
       "      <td>NaN</td>\n",
       "      <td>NaN</td>\n",
       "      <td>NaN</td>\n",
       "      <td>...</td>\n",
       "      <td>NaN</td>\n",
       "      <td>NaN</td>\n",
       "      <td>NaN</td>\n",
       "      <td>NaN</td>\n",
       "      <td>NaN</td>\n",
       "      <td>NaN</td>\n",
       "      <td>NaN</td>\n",
       "      <td>NaN</td>\n",
       "      <td>NaN</td>\n",
       "      <td>NaN</td>\n",
       "    </tr>\n",
       "    <tr>\n",
       "      <th>1</th>\n",
       "      <td>Africa Eastern and Southern</td>\n",
       "      <td>AFE</td>\n",
       "      <td>Access to clean fuels and technologies for coo...</td>\n",
       "      <td>EG.CFT.ACCS.ZS</td>\n",
       "      <td>NaN</td>\n",
       "      <td>NaN</td>\n",
       "      <td>NaN</td>\n",
       "      <td>NaN</td>\n",
       "      <td>NaN</td>\n",
       "      <td>NaN</td>\n",
       "      <td>...</td>\n",
       "      <td>16.936004</td>\n",
       "      <td>17.337896</td>\n",
       "      <td>17.687093</td>\n",
       "      <td>18.140971</td>\n",
       "      <td>18.491344</td>\n",
       "      <td>18.825520</td>\n",
       "      <td>19.272212</td>\n",
       "      <td>19.628009</td>\n",
       "      <td>NaN</td>\n",
       "      <td>NaN</td>\n",
       "    </tr>\n",
       "    <tr>\n",
       "      <th>2</th>\n",
       "      <td>Afghanistan</td>\n",
       "      <td>AFG</td>\n",
       "      <td>Access to clean fuels and technologies for coo...</td>\n",
       "      <td>EG.CFT.ACCS.ZS</td>\n",
       "      <td>NaN</td>\n",
       "      <td>NaN</td>\n",
       "      <td>NaN</td>\n",
       "      <td>NaN</td>\n",
       "      <td>NaN</td>\n",
       "      <td>NaN</td>\n",
       "      <td>...</td>\n",
       "      <td>24.800000</td>\n",
       "      <td>26.100000</td>\n",
       "      <td>27.400000</td>\n",
       "      <td>28.600000</td>\n",
       "      <td>29.700000</td>\n",
       "      <td>30.900000</td>\n",
       "      <td>31.900000</td>\n",
       "      <td>33.200000</td>\n",
       "      <td>NaN</td>\n",
       "      <td>NaN</td>\n",
       "    </tr>\n",
       "    <tr>\n",
       "      <th>3</th>\n",
       "      <td>Africa Western and Central</td>\n",
       "      <td>AFW</td>\n",
       "      <td>Access to clean fuels and technologies for coo...</td>\n",
       "      <td>EG.CFT.ACCS.ZS</td>\n",
       "      <td>NaN</td>\n",
       "      <td>NaN</td>\n",
       "      <td>NaN</td>\n",
       "      <td>NaN</td>\n",
       "      <td>NaN</td>\n",
       "      <td>NaN</td>\n",
       "      <td>...</td>\n",
       "      <td>8.479707</td>\n",
       "      <td>9.036403</td>\n",
       "      <td>9.757821</td>\n",
       "      <td>10.636089</td>\n",
       "      <td>11.622110</td>\n",
       "      <td>12.696035</td>\n",
       "      <td>13.874176</td>\n",
       "      <td>14.948984</td>\n",
       "      <td>NaN</td>\n",
       "      <td>NaN</td>\n",
       "    </tr>\n",
       "    <tr>\n",
       "      <th>4</th>\n",
       "      <td>Angola</td>\n",
       "      <td>AGO</td>\n",
       "      <td>Access to clean fuels and technologies for coo...</td>\n",
       "      <td>EG.CFT.ACCS.ZS</td>\n",
       "      <td>NaN</td>\n",
       "      <td>NaN</td>\n",
       "      <td>NaN</td>\n",
       "      <td>NaN</td>\n",
       "      <td>NaN</td>\n",
       "      <td>NaN</td>\n",
       "      <td>...</td>\n",
       "      <td>45.800000</td>\n",
       "      <td>46.500000</td>\n",
       "      <td>47.200000</td>\n",
       "      <td>47.800000</td>\n",
       "      <td>48.400000</td>\n",
       "      <td>49.100000</td>\n",
       "      <td>49.500000</td>\n",
       "      <td>50.200000</td>\n",
       "      <td>NaN</td>\n",
       "      <td>NaN</td>\n",
       "    </tr>\n",
       "  </tbody>\n",
       "</table>\n",
       "<p>5 rows × 67 columns</p>\n",
       "</div>"
      ],
      "text/plain": [
       "                  Country Name Country Code  \\\n",
       "0                        Aruba          ABW   \n",
       "1  Africa Eastern and Southern          AFE   \n",
       "2                  Afghanistan          AFG   \n",
       "3   Africa Western and Central          AFW   \n",
       "4                       Angola          AGO   \n",
       "\n",
       "                                      Indicator Name  Indicator Code  1960  \\\n",
       "0  Access to clean fuels and technologies for coo...  EG.CFT.ACCS.ZS   NaN   \n",
       "1  Access to clean fuels and technologies for coo...  EG.CFT.ACCS.ZS   NaN   \n",
       "2  Access to clean fuels and technologies for coo...  EG.CFT.ACCS.ZS   NaN   \n",
       "3  Access to clean fuels and technologies for coo...  EG.CFT.ACCS.ZS   NaN   \n",
       "4  Access to clean fuels and technologies for coo...  EG.CFT.ACCS.ZS   NaN   \n",
       "\n",
       "   1961  1962  1963  1964  1965  ...       2013       2014       2015  \\\n",
       "0   NaN   NaN   NaN   NaN   NaN  ...        NaN        NaN        NaN   \n",
       "1   NaN   NaN   NaN   NaN   NaN  ...  16.936004  17.337896  17.687093   \n",
       "2   NaN   NaN   NaN   NaN   NaN  ...  24.800000  26.100000  27.400000   \n",
       "3   NaN   NaN   NaN   NaN   NaN  ...   8.479707   9.036403   9.757821   \n",
       "4   NaN   NaN   NaN   NaN   NaN  ...  45.800000  46.500000  47.200000   \n",
       "\n",
       "        2016       2017       2018       2019       2020  2021  Unnamed: 66  \n",
       "0        NaN        NaN        NaN        NaN        NaN   NaN          NaN  \n",
       "1  18.140971  18.491344  18.825520  19.272212  19.628009   NaN          NaN  \n",
       "2  28.600000  29.700000  30.900000  31.900000  33.200000   NaN          NaN  \n",
       "3  10.636089  11.622110  12.696035  13.874176  14.948984   NaN          NaN  \n",
       "4  47.800000  48.400000  49.100000  49.500000  50.200000   NaN          NaN  \n",
       "\n",
       "[5 rows x 67 columns]"
      ]
     },
     "execution_count": 1,
     "metadata": {},
     "output_type": "execute_result"
    }
   ],
   "source": [
    "import pandas as pd\n",
    "import numpy as np\n",
    "import matplotlib.pyplot as plt\n",
    "import seaborn as sns\n",
    "\n",
    "\n",
    "data = pd.read_csv('/Users/enzoquental/Desktop/Cdados/APS/Aps2/API_EG.CFT.ACCS.ZS_DS2_en_csv_v2_4521810/API_EG.CFT.ACCS.ZS_DS2_en_csv_v2_4521810.csv', encoding='latin1', skiprows=4)\n",
    "data.head()"
   ]
  },
  {
   "cell_type": "markdown",
   "metadata": {},
   "source": [
    "<font size=\"3\" color=\"#00DDFF\">Plotando Gráfico do Brasil sobre Acesso aos combustíveis e tecnologias limpas para cozinhar.  </font>"
   ]
  },
  {
   "cell_type": "code",
   "execution_count": 2,
   "metadata": {},
   "outputs": [
    {
     "data": {
      "image/png": "[encoded data removed]",
      "text/plain": [
       "<Figure size 720x432 with 1 Axes>"
      ]
     },
     "metadata": {
      "needs_background": "light"
     },
     "output_type": "display_data"
    }
   ],
   "source": [
    "lista_anos = list(range(1990, 2021))\n",
    "\n",
    "lista_brasil = []\n",
    "\n",
    "\n",
    "data_brasil = data[data['Country Name'] == 'Brazil']\n",
    "\n",
    "for ano in lista_anos:\n",
    "    lista_brasil.append(data_brasil[str(ano)].values[0])\n",
    "\n",
    "\n",
    "plt.style.use('seaborn')\n",
    "plt.figure(figsize=(10, 6))\n",
    "plt.plot(lista_anos, lista_brasil, color='forestgreen', marker='o')\n",
    "plt.title('Acesso aos combustíveis e tecnologias limpas para cozinhar')\n",
    "plt.xlabel('Anos')\n",
    "plt.ylabel('Porcentagem')\n",
    "plt.show()"
   ]
  },
  {
   "cell_type": "markdown",
   "metadata": {},
   "source": [
    "<font size=\"3\" color=\"#00DDFF\">Plotando Gráfico da Islândia sobre Acesso aos combustíveis e tecnologias limpas para cozinhar.  </font>"
   ]
  },
  {
   "cell_type": "code",
   "execution_count": 3,
   "metadata": {},
   "outputs": [
    {
     "data": {
      "image/png": "[encoded data removed]",
      "text/plain": [
       "<Figure size 720x432 with 1 Axes>"
      ]
     },
     "metadata": {},
     "output_type": "display_data"
    }
   ],
   "source": [
    "lista_iceland = []\n",
    "\n",
    "data_iceland = data[data['Country Name'] == 'Iceland']\n",
    "\n",
    "for ano in lista_anos:\n",
    "    lista_iceland.append(data_iceland[str(ano)].values[0])\n",
    "\n",
    "\n",
    "plt.style.use('seaborn')\n",
    "plt.figure(figsize=(10, 6))\n",
    "plt.plot(lista_anos, lista_iceland, color='royalblue', marker='o')\n",
    "plt.title('Acesso aos combustíveis e tecnologias limpas para cozinhar')\n",
    "plt.xlabel('Anos')\n",
    "plt.ylabel('Porcentagem')\n",
    "plt.show()"
   ]
  },
  {
   "cell_type": "markdown",
   "metadata": {},
   "source": [
    "<font size=\"3\" color=\"#00DDFF\">Plotando Gráfico da China sobre Acesso aos combustíveis e tecnologias limpas para cozinhar.  </font>"
   ]
  },
  {
   "cell_type": "code",
   "execution_count": 4,
   "metadata": {},
   "outputs": [
    {
     "data": {
      "image/png": "[encoded data removed]",
      "text/plain": [
       "<Figure size 720x432 with 1 Axes>"
      ]
     },
     "metadata": {},
     "output_type": "display_data"
    }
   ],
   "source": [
    "lista_china = []\n",
    "\n",
    "data_china = data[data['Country Name'] == 'China']\n",
    "\n",
    "for ano in lista_anos:\n",
    "    lista_china.append(data_china[str(ano)].values[0])\n",
    "\n",
    "\n",
    "plt.style.use('seaborn')\n",
    "plt.figure(figsize=(10, 6))\n",
    "plt.plot(lista_anos, lista_china, color='red', marker='o')\n",
    "plt.title('Acesso aos combustíveis e tecnologias limpas para cozinhar')\n",
    "plt.xlabel('Anos')\n",
    "plt.ylabel('Porcentagem')\n",
    "plt.show()"
   ]
  },
  {
   "cell_type": "markdown",
   "metadata": {},
   "source": [
    "<font size=\"3\" color=\"#00DDFF\">Plotando os 3 gráficos sobre o Acesso aos combustíveis e tecnologias limpas para cozinhar.  </font>"
   ]
  },
  {
   "cell_type": "code",
   "execution_count": 5,
   "metadata": {},
   "outputs": [
    {
     "data": {
      "image/png": "[encoded data removed]",
      "text/plain": [
       "<Figure size 720x432 with 1 Axes>"
      ]
     },
     "metadata": {},
     "output_type": "display_data"
    }
   ],
   "source": [
    "plt.style.use('seaborn')\n",
    "plt.figure(figsize=(10, 6))\n",
    "plt.plot(lista_anos, lista_brasil, color='forestgreen', marker='o', label='Brasil')\n",
    "plt.plot(lista_anos, lista_iceland, color='royalblue', marker='o', label='Islândia')\n",
    "plt.plot(lista_anos, lista_china, color='red', marker='o', label='China')\n",
    "plt.title('Acesso aos combustíveis e tecnologias limpas para cozinhar')\n",
    "plt.xlabel('Anos')\n",
    "plt.ylabel('Porcentagem')\n",
    "plt.legend()\n",
    "plt.show()\n"
   ]
  },
  {
   "cell_type": "markdown",
   "metadata": {},
   "source": [
    "<font size=\"3\" color=\"#00DDFF\">Plotando os 3 gráficos sobre o consumo de energia renovável. </font>"
   ]
  },
  {
   "cell_type": "code",
   "execution_count": 6,
   "metadata": {},
   "outputs": [
    {
     "data": {
      "text/html": [
       "<div>\n",
       "<style scoped>\n",
       "    .dataframe tbody tr th:only-of-type {\n",
       "        vertical-align: middle;\n",
       "    }\n",
       "\n",
       "    .dataframe tbody tr th {\n",
       "        vertical-align: top;\n",
       "    }\n",
       "\n",
       "    .dataframe thead th {\n",
       "        text-align: right;\n",
       "    }\n",
       "</style>\n",
       "<table border=\"1\" class=\"dataframe\">\n",
       "  <thead>\n",
       "    <tr style=\"text-align: right;\">\n",
       "      <th></th>\n",
       "      <th>Country Name</th>\n",
       "      <th>Country Code</th>\n",
       "      <th>Indicator Name</th>\n",
       "      <th>Indicator Code</th>\n",
       "      <th>1960</th>\n",
       "      <th>1961</th>\n",
       "      <th>1962</th>\n",
       "      <th>1963</th>\n",
       "      <th>1964</th>\n",
       "      <th>1965</th>\n",
       "      <th>...</th>\n",
       "      <th>2013</th>\n",
       "      <th>2014</th>\n",
       "      <th>2015</th>\n",
       "      <th>2016</th>\n",
       "      <th>2017</th>\n",
       "      <th>2018</th>\n",
       "      <th>2019</th>\n",
       "      <th>2020</th>\n",
       "      <th>2021</th>\n",
       "      <th>Unnamed: 66</th>\n",
       "    </tr>\n",
       "  </thead>\n",
       "  <tbody>\n",
       "    <tr>\n",
       "      <th>0</th>\n",
       "      <td>Aruba</td>\n",
       "      <td>ABW</td>\n",
       "      <td>Renewable energy consumption (% of total final...</td>\n",
       "      <td>EG.FEC.RNEW.ZS</td>\n",
       "      <td>NaN</td>\n",
       "      <td>NaN</td>\n",
       "      <td>NaN</td>\n",
       "      <td>NaN</td>\n",
       "      <td>NaN</td>\n",
       "      <td>NaN</td>\n",
       "      <td>...</td>\n",
       "      <td>6.890000</td>\n",
       "      <td>6.930000</td>\n",
       "      <td>6.730000</td>\n",
       "      <td>6.99</td>\n",
       "      <td>6.70</td>\n",
       "      <td>8.02</td>\n",
       "      <td>7.48</td>\n",
       "      <td>NaN</td>\n",
       "      <td>NaN</td>\n",
       "      <td>NaN</td>\n",
       "    </tr>\n",
       "    <tr>\n",
       "      <th>1</th>\n",
       "      <td>Africa Eastern and Southern</td>\n",
       "      <td>AFE</td>\n",
       "      <td>Renewable energy consumption (% of total final...</td>\n",
       "      <td>EG.FEC.RNEW.ZS</td>\n",
       "      <td>NaN</td>\n",
       "      <td>NaN</td>\n",
       "      <td>NaN</td>\n",
       "      <td>NaN</td>\n",
       "      <td>NaN</td>\n",
       "      <td>NaN</td>\n",
       "      <td>...</td>\n",
       "      <td>60.378305</td>\n",
       "      <td>60.712292</td>\n",
       "      <td>61.106397</td>\n",
       "      <td>NaN</td>\n",
       "      <td>NaN</td>\n",
       "      <td>NaN</td>\n",
       "      <td>NaN</td>\n",
       "      <td>NaN</td>\n",
       "      <td>NaN</td>\n",
       "      <td>NaN</td>\n",
       "    </tr>\n",
       "    <tr>\n",
       "      <th>2</th>\n",
       "      <td>Afghanistan</td>\n",
       "      <td>AFG</td>\n",
       "      <td>Renewable energy consumption (% of total final...</td>\n",
       "      <td>EG.FEC.RNEW.ZS</td>\n",
       "      <td>NaN</td>\n",
       "      <td>NaN</td>\n",
       "      <td>NaN</td>\n",
       "      <td>NaN</td>\n",
       "      <td>NaN</td>\n",
       "      <td>NaN</td>\n",
       "      <td>...</td>\n",
       "      <td>16.860000</td>\n",
       "      <td>18.930000</td>\n",
       "      <td>17.530000</td>\n",
       "      <td>19.92</td>\n",
       "      <td>19.21</td>\n",
       "      <td>17.96</td>\n",
       "      <td>18.51</td>\n",
       "      <td>NaN</td>\n",
       "      <td>NaN</td>\n",
       "      <td>NaN</td>\n",
       "    </tr>\n",
       "    <tr>\n",
       "      <th>3</th>\n",
       "      <td>Africa Western and Central</td>\n",
       "      <td>AFW</td>\n",
       "      <td>Renewable energy consumption (% of total final...</td>\n",
       "      <td>EG.FEC.RNEW.ZS</td>\n",
       "      <td>NaN</td>\n",
       "      <td>NaN</td>\n",
       "      <td>NaN</td>\n",
       "      <td>NaN</td>\n",
       "      <td>NaN</td>\n",
       "      <td>NaN</td>\n",
       "      <td>...</td>\n",
       "      <td>77.445937</td>\n",
       "      <td>76.190412</td>\n",
       "      <td>76.752857</td>\n",
       "      <td>NaN</td>\n",
       "      <td>NaN</td>\n",
       "      <td>NaN</td>\n",
       "      <td>NaN</td>\n",
       "      <td>NaN</td>\n",
       "      <td>NaN</td>\n",
       "      <td>NaN</td>\n",
       "    </tr>\n",
       "    <tr>\n",
       "      <th>4</th>\n",
       "      <td>Angola</td>\n",
       "      <td>AGO</td>\n",
       "      <td>Renewable energy consumption (% of total final...</td>\n",
       "      <td>EG.FEC.RNEW.ZS</td>\n",
       "      <td>NaN</td>\n",
       "      <td>NaN</td>\n",
       "      <td>NaN</td>\n",
       "      <td>NaN</td>\n",
       "      <td>NaN</td>\n",
       "      <td>NaN</td>\n",
       "      <td>...</td>\n",
       "      <td>47.950000</td>\n",
       "      <td>48.230000</td>\n",
       "      <td>47.840000</td>\n",
       "      <td>49.03</td>\n",
       "      <td>56.25</td>\n",
       "      <td>57.36</td>\n",
       "      <td>54.69</td>\n",
       "      <td>NaN</td>\n",
       "      <td>NaN</td>\n",
       "      <td>NaN</td>\n",
       "    </tr>\n",
       "  </tbody>\n",
       "</table>\n",
       "<p>5 rows × 67 columns</p>\n",
       "</div>"
      ],
      "text/plain": [
       "                  Country Name Country Code  \\\n",
       "0                        Aruba          ABW   \n",
       "1  Africa Eastern and Southern          AFE   \n",
       "2                  Afghanistan          AFG   \n",
       "3   Africa Western and Central          AFW   \n",
       "4                       Angola          AGO   \n",
       "\n",
       "                                      Indicator Name  Indicator Code  1960  \\\n",
       "0  Renewable energy consumption (% of total final...  EG.FEC.RNEW.ZS   NaN   \n",
       "1  Renewable energy consumption (% of total final...  EG.FEC.RNEW.ZS   NaN   \n",
       "2  Renewable energy consumption (% of total final...  EG.FEC.RNEW.ZS   NaN   \n",
       "3  Renewable energy consumption (% of total final...  EG.FEC.RNEW.ZS   NaN   \n",
       "4  Renewable energy consumption (% of total final...  EG.FEC.RNEW.ZS   NaN   \n",
       "\n",
       "   1961  1962  1963  1964  1965  ...       2013       2014       2015   2016  \\\n",
       "0   NaN   NaN   NaN   NaN   NaN  ...   6.890000   6.930000   6.730000   6.99   \n",
       "1   NaN   NaN   NaN   NaN   NaN  ...  60.378305  60.712292  61.106397    NaN   \n",
       "2   NaN   NaN   NaN   NaN   NaN  ...  16.860000  18.930000  17.530000  19.92   \n",
       "3   NaN   NaN   NaN   NaN   NaN  ...  77.445937  76.190412  76.752857    NaN   \n",
       "4   NaN   NaN   NaN   NaN   NaN  ...  47.950000  48.230000  47.840000  49.03   \n",
       "\n",
       "    2017   2018   2019  2020  2021  Unnamed: 66  \n",
       "0   6.70   8.02   7.48   NaN   NaN          NaN  \n",
       "1    NaN    NaN    NaN   NaN   NaN          NaN  \n",
       "2  19.21  17.96  18.51   NaN   NaN          NaN  \n",
       "3    NaN    NaN    NaN   NaN   NaN          NaN  \n",
       "4  56.25  57.36  54.69   NaN   NaN          NaN  \n",
       "\n",
       "[5 rows x 67 columns]"
      ]
     },
     "execution_count": 6,
     "metadata": {},
     "output_type": "execute_result"
    }
   ],
   "source": [
    "data = pd.read_csv('/Users/enzoquental/Desktop/Cdados/APS/Aps/API_EG.FEC.RNEW.ZS_DS2_en_csv_v2_4353594/API_EG.FEC.RNEW.ZS_DS2_en_csv_v2_4353594.csv', encoding='latin1', skiprows=4)\n",
    "data.head()"
   ]
  },
  {
   "cell_type": "code",
   "execution_count": 7,
   "metadata": {},
   "outputs": [
    {
     "data": {
      "text/plain": [
       "Text(0.5, 1.0, 'Renovavel em Islândia, China e Brasil (1990-2015)')"
      ]
     },
     "execution_count": 7,
     "metadata": {},
     "output_type": "execute_result"
    },
    {
     "data": {
      "image/png": "[encoded data removed]",
      "text/plain": [
       "<Figure size 864x432 with 1 Axes>"
      ]
     },
     "metadata": {},
     "output_type": "display_data"
    }
   ],
   "source": [
    "lista_anos_renovavel = list(range(1990, 2015))\n",
    "lista_renovavel_iceland = []\n",
    "\n",
    "\n",
    "data_iceland2 = data[data['Country Name'] == 'Iceland']\n",
    "\n",
    "for ano in lista_anos_renovavel:\n",
    "    lista_renovavel_iceland.append(data_iceland2[str(ano)].values[0])\n",
    "\n",
    "lista_renovavel_iceland = [0 if np.isnan(x) else x for x in lista_renovavel_iceland]\n",
    "\n",
    "\n",
    "lista_renovavel_china = []\n",
    "\n",
    "data_china2 = data[data['Country Name'] == 'China']\n",
    "\n",
    "for ano in lista_anos_renovavel:\n",
    "    lista_renovavel_china.append(data_china2[str(ano)].values[0])\n",
    "\n",
    "lista_renovavel_china = [0 if np.isnan(x) else x for x in lista_renovavel_china]\n",
    "\n",
    "\n",
    "\n",
    "lista_renovavel_brasil = []\n",
    "\n",
    "data_brasil2 = data[data['Country Name'] == 'Brazil']\n",
    "\n",
    "for ano in lista_anos_renovavel:\n",
    "    lista_renovavel_brasil.append(data_brasil2[str(ano)].values[0])\n",
    "\n",
    "lista_renovavel_brasil = [0 if np.isnan(x) else x for x in lista_renovavel_brasil]\n",
    "\n",
    "\n",
    "plt.style.use('seaborn')\n",
    "plt.figure(figsize=(12, 6))\n",
    "plt.plot(lista_anos_renovavel, lista_renovavel_iceland, color='royalblue', label='Islândia')\n",
    "plt.plot(lista_anos_renovavel, lista_renovavel_china, color='red', label='China')\n",
    "plt.plot(lista_anos_renovavel, lista_renovavel_brasil, color='green', label='Brasil')\n",
    "plt.legend()\n",
    "plt.xlabel('Anos')\n",
    "plt.ylabel('% de Energia Renovavel total usada')\n",
    "plt.title('Renovavel em Islândia, China e Brasil (1990-2015)')"
   ]
  },
  {
   "cell_type": "markdown",
   "metadata": {},
   "source": [
    "<font size=\"3\" color=\"#00DDFF\">Juntando todos os 6 dados em 1 gráfico.</font>"
   ]
  },
  {
   "cell_type": "code",
   "execution_count": 8,
   "metadata": {},
   "outputs": [
    {
     "data": {
      "image/png": "[encoded data removed]",
      "text/plain": [
       "<Figure size 864x432 with 1 Axes>"
      ]
     },
     "metadata": {},
     "output_type": "display_data"
    }
   ],
   "source": [
    "plt.style.use('seaborn')\n",
    "plt.figure(figsize=(12, 6))\n",
    "plt.plot(lista_anos_renovavel, lista_renovavel_iceland, color='royalblue', label='Islândia')\n",
    "plt.plot(lista_anos_renovavel, lista_renovavel_china, color='red', label='China')\n",
    "plt.plot(lista_anos_renovavel, lista_renovavel_brasil, color='green', label='Brasil')\n",
    "plt.plot(lista_anos, lista_brasil, color='forestgreen', marker='o', label='Brasil')\n",
    "plt.plot(lista_anos, lista_iceland, color='royalblue', marker='o', label='Islândia')\n",
    "plt.plot(lista_anos, lista_china, color='red', marker='o', label='China')\n",
    "plt.legend()\n",
    "plt.xlabel('Anos')\n",
    "plt.ylabel('% de Energia Renovavel total usada')\n",
    "plt.title('Dados de Energia Renovavel e Acesso aos combustíveis e tecnologias limpas para cozinhar. (1990-2015), China, Islândia e Brasil')\n",
    "plt.show()\n",
    "\n"
   ]
  },
  {
   "cell_type": "markdown",
   "metadata": {},
   "source": [
    "<font size=\"3\" color=\"#00DDFF\">Fazendo a correlação e covariancia do Brasil.</font>"
   ]
  },
  {
   "cell_type": "code",
   "execution_count": 9,
   "metadata": {},
   "outputs": [
    {
     "name": "stderr",
     "output_type": "stream",
     "text": [
      "/Library/Frameworks/Python.framework/Versions/3.10/lib/python3.10/site-packages/pandas/core/frame.py:4906: SettingWithCopyWarning: \n",
      "A value is trying to be set on a copy of a slice from a DataFrame\n",
      "\n",
      "See the caveats in the documentation: https://pandas.pydata.org/pandas-docs/stable/user_guide/indexing.html#returning-a-view-versus-a-copy\n",
      "  return super().drop(\n"
     ]
    },
    {
     "data": {
      "text/html": [
       "<div>\n",
       "<style scoped>\n",
       "    .dataframe tbody tr th:only-of-type {\n",
       "        vertical-align: middle;\n",
       "    }\n",
       "\n",
       "    .dataframe tbody tr th {\n",
       "        vertical-align: top;\n",
       "    }\n",
       "\n",
       "    .dataframe thead th {\n",
       "        text-align: right;\n",
       "    }\n",
       "</style>\n",
       "<table border=\"1\" class=\"dataframe\">\n",
       "  <thead>\n",
       "    <tr style=\"text-align: right;\">\n",
       "      <th></th>\n",
       "      <th>Brasil1</th>\n",
       "      <th>Brasil2</th>\n",
       "    </tr>\n",
       "  </thead>\n",
       "  <tbody>\n",
       "    <tr>\n",
       "      <th>Brasil1</th>\n",
       "      <td>1.000000</td>\n",
       "      <td>0.256685</td>\n",
       "    </tr>\n",
       "    <tr>\n",
       "      <th>Brasil2</th>\n",
       "      <td>0.256685</td>\n",
       "      <td>1.000000</td>\n",
       "    </tr>\n",
       "  </tbody>\n",
       "</table>\n",
       "</div>"
      ],
      "text/plain": [
       "          Brasil1   Brasil2\n",
       "Brasil1  1.000000  0.256685\n",
       "Brasil2  0.256685  1.000000"
      ]
     },
     "execution_count": 9,
     "metadata": {},
     "output_type": "execute_result"
    }
   ],
   "source": [
    "\n",
    "data_brasil.drop(['Country Code', 'Indicator Name', 'Indicator Code','Unnamed: 66'], axis=1, inplace=True)\n",
    "data_brasil.set_index('Country Name', inplace=True)\n",
    "data_brasil = data_brasil.transpose()\n",
    "\n",
    "\n",
    "data_brasil2.drop(['Country Code', 'Indicator Name', 'Indicator Code','Unnamed: 66'], axis=1, inplace=True)\n",
    "data_brasil2.set_index('Country Name', inplace=True)\n",
    "data_brasil2 = data_brasil2.transpose()\n",
    "\n",
    "\n",
    "df_brasil_all = pd.concat([data_brasil, data_brasil2], axis=1)\n",
    "df_brasil_all.head()\n",
    "\n",
    "df_brasil_all.set_axis(['Brasil1', 'Brasil2'], axis=1, inplace=True)\n",
    "df_brasil_all.head()\n",
    "\n",
    "\n",
    "\n",
    "df_brasil_all.corr()\n",
    "\n",
    "\n"
   ]
  },
  {
   "cell_type": "code",
   "execution_count": 10,
   "metadata": {},
   "outputs": [
    {
     "data": {
      "text/html": [
       "<div>\n",
       "<style scoped>\n",
       "    .dataframe tbody tr th:only-of-type {\n",
       "        vertical-align: middle;\n",
       "    }\n",
       "\n",
       "    .dataframe tbody tr th {\n",
       "        vertical-align: top;\n",
       "    }\n",
       "\n",
       "    .dataframe thead th {\n",
       "        text-align: right;\n",
       "    }\n",
       "</style>\n",
       "<table border=\"1\" class=\"dataframe\">\n",
       "  <thead>\n",
       "    <tr style=\"text-align: right;\">\n",
       "      <th></th>\n",
       "      <th>Brasil1</th>\n",
       "      <th>Brasil2</th>\n",
       "    </tr>\n",
       "  </thead>\n",
       "  <tbody>\n",
       "    <tr>\n",
       "      <th>Brasil1</th>\n",
       "      <td>5.188619</td>\n",
       "      <td>1.249842</td>\n",
       "    </tr>\n",
       "    <tr>\n",
       "      <th>Brasil2</th>\n",
       "      <td>1.249842</td>\n",
       "      <td>5.414819</td>\n",
       "    </tr>\n",
       "  </tbody>\n",
       "</table>\n",
       "</div>"
      ],
      "text/plain": [
       "          Brasil1   Brasil2\n",
       "Brasil1  5.188619  1.249842\n",
       "Brasil2  1.249842  5.414819"
      ]
     },
     "execution_count": 10,
     "metadata": {},
     "output_type": "execute_result"
    }
   ],
   "source": [
    "df_brasil_all.cov()"
   ]
  },
  {
   "cell_type": "markdown",
   "metadata": {},
   "source": [
    "<font size=\"3\" color=\"#00DDFF\">Fazendo a correlação e covariancia da Islândia.</font>"
   ]
  },
  {
   "cell_type": "code",
   "execution_count": 11,
   "metadata": {},
   "outputs": [
    {
     "name": "stderr",
     "output_type": "stream",
     "text": [
      "/Library/Frameworks/Python.framework/Versions/3.10/lib/python3.10/site-packages/pandas/core/frame.py:4906: SettingWithCopyWarning: \n",
      "A value is trying to be set on a copy of a slice from a DataFrame\n",
      "\n",
      "See the caveats in the documentation: https://pandas.pydata.org/pandas-docs/stable/user_guide/indexing.html#returning-a-view-versus-a-copy\n",
      "  return super().drop(\n"
     ]
    },
    {
     "data": {
      "text/html": [
       "<div>\n",
       "<style scoped>\n",
       "    .dataframe tbody tr th:only-of-type {\n",
       "        vertical-align: middle;\n",
       "    }\n",
       "\n",
       "    .dataframe tbody tr th {\n",
       "        vertical-align: top;\n",
       "    }\n",
       "\n",
       "    .dataframe thead th {\n",
       "        text-align: right;\n",
       "    }\n",
       "</style>\n",
       "<table border=\"1\" class=\"dataframe\">\n",
       "  <thead>\n",
       "    <tr style=\"text-align: right;\">\n",
       "      <th></th>\n",
       "      <th>Islândia1</th>\n",
       "      <th>Islândia2</th>\n",
       "    </tr>\n",
       "  </thead>\n",
       "  <tbody>\n",
       "    <tr>\n",
       "      <th>Islândia1</th>\n",
       "      <td>NaN</td>\n",
       "      <td>NaN</td>\n",
       "    </tr>\n",
       "    <tr>\n",
       "      <th>Islândia2</th>\n",
       "      <td>NaN</td>\n",
       "      <td>1.0</td>\n",
       "    </tr>\n",
       "  </tbody>\n",
       "</table>\n",
       "</div>"
      ],
      "text/plain": [
       "           Islândia1  Islândia2\n",
       "Islândia1        NaN        NaN\n",
       "Islândia2        NaN        1.0"
      ]
     },
     "execution_count": 11,
     "metadata": {},
     "output_type": "execute_result"
    }
   ],
   "source": [
    "\n",
    "data_iceland.drop(['Country Code', 'Indicator Name', 'Indicator Code','Unnamed: 66'], axis=1, inplace=True)\n",
    "data_iceland.set_index('Country Name', inplace=True)\n",
    "data_iceland = data_iceland.transpose()\n",
    "\n",
    "\n",
    "data_iceland2.drop(['Country Code', 'Indicator Name', 'Indicator Code','Unnamed: 66'], axis=1, inplace=True)\n",
    "data_iceland2.set_index('Country Name', inplace=True)\n",
    "data_iceland2 = data_iceland2.transpose()\n",
    "\n",
    "\n",
    "df_iceland_all = pd.concat([data_iceland, data_iceland2], axis=1)\n",
    "df_iceland_all.head()\n",
    "\n",
    "\n",
    "df_iceland_all.set_axis(['Islândia1', 'Islândia2'], axis=1, inplace=True)\n",
    "df_iceland_all.head()\n",
    "\n",
    "\n",
    "df_iceland_all.corr()"
   ]
  },
  {
   "cell_type": "code",
   "execution_count": 12,
   "metadata": {},
   "outputs": [
    {
     "data": {
      "text/html": [
       "<div>\n",
       "<style scoped>\n",
       "    .dataframe tbody tr th:only-of-type {\n",
       "        vertical-align: middle;\n",
       "    }\n",
       "\n",
       "    .dataframe tbody tr th {\n",
       "        vertical-align: top;\n",
       "    }\n",
       "\n",
       "    .dataframe thead th {\n",
       "        text-align: right;\n",
       "    }\n",
       "</style>\n",
       "<table border=\"1\" class=\"dataframe\">\n",
       "  <thead>\n",
       "    <tr style=\"text-align: right;\">\n",
       "      <th></th>\n",
       "      <th>Islândia1</th>\n",
       "      <th>Islândia2</th>\n",
       "    </tr>\n",
       "  </thead>\n",
       "  <tbody>\n",
       "    <tr>\n",
       "      <th>Islândia1</th>\n",
       "      <td>0.0</td>\n",
       "      <td>0.000000</td>\n",
       "    </tr>\n",
       "    <tr>\n",
       "      <th>Islândia2</th>\n",
       "      <td>0.0</td>\n",
       "      <td>103.878469</td>\n",
       "    </tr>\n",
       "  </tbody>\n",
       "</table>\n",
       "</div>"
      ],
      "text/plain": [
       "           Islândia1   Islândia2\n",
       "Islândia1        0.0    0.000000\n",
       "Islândia2        0.0  103.878469"
      ]
     },
     "execution_count": 12,
     "metadata": {},
     "output_type": "execute_result"
    }
   ],
   "source": [
    "df_iceland_all.cov()"
   ]
  },
  {
   "cell_type": "markdown",
   "metadata": {},
   "source": [
    "<font size=\"3\" color=\"#00DDFF\">Fazendo a correlação e covariancia da China.</font>"
   ]
  },
  {
   "cell_type": "code",
   "execution_count": 13,
   "metadata": {},
   "outputs": [
    {
     "name": "stderr",
     "output_type": "stream",
     "text": [
      "/Library/Frameworks/Python.framework/Versions/3.10/lib/python3.10/site-packages/pandas/core/frame.py:4906: SettingWithCopyWarning: \n",
      "A value is trying to be set on a copy of a slice from a DataFrame\n",
      "\n",
      "See the caveats in the documentation: https://pandas.pydata.org/pandas-docs/stable/user_guide/indexing.html#returning-a-view-versus-a-copy\n",
      "  return super().drop(\n"
     ]
    },
    {
     "data": {
      "text/html": [
       "<div>\n",
       "<style scoped>\n",
       "    .dataframe tbody tr th:only-of-type {\n",
       "        vertical-align: middle;\n",
       "    }\n",
       "\n",
       "    .dataframe tbody tr th {\n",
       "        vertical-align: top;\n",
       "    }\n",
       "\n",
       "    .dataframe thead th {\n",
       "        text-align: right;\n",
       "    }\n",
       "</style>\n",
       "<table border=\"1\" class=\"dataframe\">\n",
       "  <thead>\n",
       "    <tr style=\"text-align: right;\">\n",
       "      <th></th>\n",
       "      <th>China1</th>\n",
       "      <th>China2</th>\n",
       "    </tr>\n",
       "  </thead>\n",
       "  <tbody>\n",
       "    <tr>\n",
       "      <th>China1</th>\n",
       "      <td>1.000000</td>\n",
       "      <td>-0.711582</td>\n",
       "    </tr>\n",
       "    <tr>\n",
       "      <th>China2</th>\n",
       "      <td>-0.711582</td>\n",
       "      <td>1.000000</td>\n",
       "    </tr>\n",
       "  </tbody>\n",
       "</table>\n",
       "</div>"
      ],
      "text/plain": [
       "          China1    China2\n",
       "China1  1.000000 -0.711582\n",
       "China2 -0.711582  1.000000"
      ]
     },
     "execution_count": 13,
     "metadata": {},
     "output_type": "execute_result"
    }
   ],
   "source": [
    "\n",
    "data_china.drop(['Country Code', 'Indicator Name', 'Indicator Code','Unnamed: 66'], axis=1, inplace=True)\n",
    "data_china.set_index('Country Name', inplace=True)\n",
    "data_china = data_china.transpose()\n",
    "\n",
    "\n",
    "data_china2.drop(['Country Code', 'Indicator Name', 'Indicator Code','Unnamed: 66'], axis=1, inplace=True)\n",
    "data_china2.set_index('Country Name', inplace=True)\n",
    "data_china2 = data_china2.transpose()\n",
    "\n",
    "df_china_all = pd.concat([data_china, data_china2], axis=1)\n",
    "df_china_all.head()\n",
    "\n",
    "\n",
    "df_china_all.set_axis(['China1', 'China2'], axis=1, inplace=True)\n",
    "df_china_all.head()\n",
    "\n",
    "df_china_all.corr()"
   ]
  },
  {
   "cell_type": "code",
   "execution_count": 14,
   "metadata": {},
   "outputs": [
    {
     "data": {
      "text/html": [
       "<div>\n",
       "<style scoped>\n",
       "    .dataframe tbody tr th:only-of-type {\n",
       "        vertical-align: middle;\n",
       "    }\n",
       "\n",
       "    .dataframe tbody tr th {\n",
       "        vertical-align: top;\n",
       "    }\n",
       "\n",
       "    .dataframe thead th {\n",
       "        text-align: right;\n",
       "    }\n",
       "</style>\n",
       "<table border=\"1\" class=\"dataframe\">\n",
       "  <thead>\n",
       "    <tr style=\"text-align: right;\">\n",
       "      <th></th>\n",
       "      <th>China1</th>\n",
       "      <th>China2</th>\n",
       "    </tr>\n",
       "  </thead>\n",
       "  <tbody>\n",
       "    <tr>\n",
       "      <th>China1</th>\n",
       "      <td>162.314286</td>\n",
       "      <td>-51.335132</td>\n",
       "    </tr>\n",
       "    <tr>\n",
       "      <th>China2</th>\n",
       "      <td>-51.335132</td>\n",
       "      <td>75.157556</td>\n",
       "    </tr>\n",
       "  </tbody>\n",
       "</table>\n",
       "</div>"
      ],
      "text/plain": [
       "            China1     China2\n",
       "China1  162.314286 -51.335132\n",
       "China2  -51.335132  75.157556"
      ]
     },
     "execution_count": 14,
     "metadata": {},
     "output_type": "execute_result"
    }
   ],
   "source": [
    "df_china_all.cov()"
   ]
  },
  {
   "cell_type": "markdown",
   "metadata": {},
   "source": [
    "---\n",
    "<p>\n",
    "Além disso, a figura, a correlação e a covariância indicam que a hipótese levantada pelo nosso grupo se confirma apenas em um dos países escolhidos (Brasil),  pois quando as pessoas começam a ter acesso a combustíveis e tecnologias limpas para cozinhar, estarão usando de energias renováveis, o que faz com que o seu consumo aumente. Porém, podemos ver que nos outros países possui uma correlação diferente, o que faz com que nossa hipótese seja falsa.\n",
    "</p>\n",
    "\n",
    "<p>\n",
    "No Brasil, quando o consumo de energia renovável aumenta, o acesso de combustíveis e tecnologias limpas para cozinhar também aumenta, mas pouco, no qual a correlação é muito baixa em relação aos dois índices. \n",
    "</p>\n",
    "\n",
    "<p>\n",
    "Na Islândia, temos um caso à parte, pois o acesso aos combustíveis e tecnologias limpas para cozinhar se mantém o mesmo (sempre 100%), ou seja, não tem variação, fazendo com que a correlação não exista. Portanto, se o consumo de energia renovável aumenta uma certa porcentagem, o uso de combustíveis e tecnologias limpas para cozinhar aumenta a mesma porcentagem. \n",
    "</p>\n",
    "\n",
    "<p>\n",
    "Na China, a correlação é grande, pois enquanto o gráfico cresce para o consumo de energia renovável, ele diminui para o gráfico de acesso a combustíveis e tecnologias limpas para cozinhar. \n",
    "</p>\n",
    "\n",
    "<p>\n",
    "Já em relação a covariância, no Brasil, podemos ver que  intensidade entre os indicadores é fraca, isto faz com que exista covariância mas é muito fraca. \n",
    "</p>\n",
    "\n",
    "<p>\n",
    "Na Islândia, a covariância possui uma intensidade entre os indicadores muito grande, pois se há uma mudança nos gráficos acontece de forma intensa.\n",
    "</p>\n",
    "\n",
    "<p>\n",
    "Na China, a covariância possui uma intensidade grande, no qual a mudança nos gráficos acontece de forma intensa, porém negativa.\n",
    "</p>"
   ]
  },
  {
   "cell_type": "markdown",
   "metadata": {},
   "source": [
    "---\n",
    "## Feedback e Modificações\n",
    "\n",
    "<p>\n",
    "Feedback: Texto inicial está encadeado de uma forma confusa. --> Modificações: Procuramos deixar nosso texto mais claro, no qual não fique confuso para o revisor entender.\n",
    "</p>\n",
    "<p>\n",
    "Feedback: O gráfico precisa estar em apenas uma língua. --> Modificações: Colocamos o gráfico em apenas uma língua.\n",
    "</p>\n",
    "<p>\n",
    "Feedback: Melhorar título do gráfico. --> Modificações: Melhoramos o título do gráfico.\n",
    "</p>"
   ]
  }
 ],
 "metadata": {
  "kernelspec": {
   "display_name": "Python 3.10.4 64-bit",
   "language": "python",
   "name": "python3"
  },
  "language_info": {
   "codemirror_mode": {
    "name": "ipython",
    "version": 3
   },
   "file_extension": ".py",
   "mimetype": "text/x-python",
   "name": "python",
   "nbconvert_exporter": "python",
   "pygments_lexer": "ipython3",
   "version": "3.10.4"
  },
  "orig_nbformat": 4,
  "vscode": {
   "interpreter": {
    "hash": "aee8b7b246df8f9039afb4144a1f6fd8d2ca17a180786b69acc140d282b71a49"
   }
  }
 },
 "nbformat": 4,
 "nbformat_minor": 2
}
